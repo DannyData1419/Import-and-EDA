{
  "nbformat": 4,
  "nbformat_minor": 0,
  "metadata": {
    "colab": {
      "provenance": [],
      "authorship_tag": "ABX9TyMOlw+WGCgYyb3RNSfYyllK",
      "include_colab_link": true
    },
    "kernelspec": {
      "name": "python3",
      "display_name": "Python 3"
    },
    "language_info": {
      "name": "python"
    }
  },
  "cells": [
    {
      "cell_type": "markdown",
      "metadata": {
        "id": "view-in-github",
        "colab_type": "text"
      },
      "source": [
        "<a href=\"https://colab.research.google.com/github/DannyData1419/Import-and-EDA/blob/main/EDA_Null_Percentage_Pandas_DataFrame.ipynb\" target=\"_parent\"><img src=\"https://colab.research.google.com/assets/colab-badge.svg\" alt=\"Open In Colab\"/></a>"
      ]
    },
    {
      "cell_type": "code",
      "execution_count": null,
      "metadata": {
        "id": "p927mc57B8YM"
      },
      "outputs": [],
      "source": [
        "def null_pct_table(df):\n",
        "  \"\"\"\n",
        "    Generates a table displaying the percentage of missing (null) values for each column in the input DataFrame.\n",
        "\n",
        "    Parameters\n",
        "    ----------\n",
        "    df : pd.DataFrame or similar\n",
        "        The input dataset for which the null percentages are calculated. It can be any object that can be converted into a Pandas DataFrame.\n",
        "\n",
        "    Returns\n",
        "    -------\n",
        "    pd.DataFrame\n",
        "        A DataFrame with two columns:\n",
        "        - 'Variable name': The name of each column in the input DataFrame.\n",
        "        - 'Null %': The percentage of null values in each column, rounded to two decimal places, sorted in ascending order of null percentage.\n",
        "\n",
        "    Example\n",
        "    -------\n",
        "    >>> df = pd.DataFrame({'A': [1, 2, None], 'B': [None, None, 3]})\n",
        "    >>> null_pct_table(df)\n",
        "      Variable name  Null %\n",
        "    1             A   33.33\n",
        "    0             B   66.67\n",
        "  \"\"\"\n",
        "  df = pd.DataFrame(df)                                                         # ensure pandas pdf\n",
        "  missing_data = []                                                             # an empty list to store results\n",
        "  for i in df.columns:                                                          # loop over each column in df\n",
        "      null_pct = round((df[i].isnull().sum() / len(df)) * 100, 2)               # calc % of missing data and round\n",
        "      missing_data.append({'Variable name': i, 'Null %': null_pct})             # append 'variable name' and 'null %' into list\n",
        "\n",
        "  data_pct = pd.DataFrame(missing_data)                                         # add list to df\n",
        "  data_pct.sort_values(by='Null %', ascending=False, inplace=True)              # sort df in descending order by null %\n",
        "  data_pct.reset_index(drop=True, inplace=True)                                 # reset index\n",
        "  return data_pct"
      ]
    }
  ]
}