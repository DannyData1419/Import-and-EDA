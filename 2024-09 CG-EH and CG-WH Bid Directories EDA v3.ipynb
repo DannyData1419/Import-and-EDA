{
 "cells": [
  {
   "cell_type": "markdown",
   "metadata": {},
   "source": [
    "# Files and Folders Pattern Matching Script"
   ]
  },
  {
   "cell_type": "code",
   "execution_count": 1,
   "metadata": {},
   "outputs": [],
   "source": [
    "# import libraries\n",
    "from datetime import datetime\n",
    "import os\n",
    "import re\n",
    "import random\n",
    "from collections import defaultdict\n",
    "import pandas as pd\n",
    "import matplotlib.pyplot as plt\n",
    "import numpy as np\n",
    "import seaborn as sns\n",
    "\n",
    "# v3 with folder name pattern-matching\n",
    "# traverse directory for files and folders\n",
    "class FilesAndFoldersInDirectory:\n",
    "    def __init__(self, directory_path, folder_name, folder_pattern, file_name, pattern, limit):\n",
    "        \"\"\"\n",
    "        Initializes evaluator with directory from which to traverse, requires a folder name and regex pattern, \n",
    "        a file name and regex pattern, and a limit to stop the search.\n",
    "        \"\"\"\n",
    "        self.directory_path = directory_path              # directory path\n",
    "        self.folder_name = folder_name                    # description of folder being searched\n",
    "        self.folder_pattern = re.compile(folder_pattern)  # compile folder regex pattern\n",
    "        self.file_name = file_name                        # description of file being searched\n",
    "        self.pattern = re.compile(pattern)                # compile file regex pattern\n",
    "        self.limit = limit                                # limit: 100, 1000, 10000, etc.\n",
    "        self.today = datetime.now().strftime(\"%Y-%m-%d\")  # today's date\n",
    "        self.grouped_folders = defaultdict(list)          # initialize instance variable for storing folder groups\n",
    "\n",
    "    # function #1\n",
    "    def retrieve_pattern_matched_files(self):\n",
    "        pdf_files = []\n",
    "        count = 0\n",
    "        for root, dirs, files in os.walk(self.directory_path):\n",
    "            if self.folder_pattern.search(root):                       # search dir for pattern-matched folder\n",
    "                for file in files:                                     # for each file\n",
    "                    if self.pattern.match(file):                       # match pattern\n",
    "                        pdf_files.append(os.path.join(file))           # append matched file to list\n",
    "                        count += 1                                     # update counter\n",
    "                        if count == self.limit:                        # break if counter equal to limit\n",
    "                            break\n",
    "\n",
    "            if count == self.limit:\n",
    "                break\n",
    "\n",
    "        print(f\"A total of {len(pdf_files)} retrieved {self.file_name} files from {self.folder_name} on {self.today}\")\n",
    "\n",
    "        random_sample_size = min(10, len(pdf_files))\n",
    "        random_pdfs = random.sample(pdf_files, random_sample_size)\n",
    "\n",
    "        print(\"\\nRandomly selected samples:\")\n",
    "        for pdf in random_pdfs:\n",
    "            print(pdf)\n",
    "\n",
    "    # function #2 \n",
    "    def distribution_of_files_in_folders(self):\n",
    "        pdf_files = []\n",
    "        folder_pdf_count = {}\n",
    "        total_count = 0\n",
    "        total_submissions_folders = 0                                  # counter for \"Submissions\" folders\n",
    "\n",
    "        for root, dirs, files in os.walk(self.directory_path):         # Traverse directory structure\n",
    "            if self.folder_pattern.search(root):                       # search dir for pattern-matched folder\n",
    "                total_submissions_folders += 1                         # Increment count for every \"Submissions\" folder\n",
    "                matched_count = 0                                      # Counter for current 'Submissions' folder\n",
    "\n",
    "                for file in files:                                     # For each file in the folder\n",
    "                    if self.pattern.match(file):                            # If the file matches the regex pattern\n",
    "                        pdf_files.append(os.path.join(root, file))     # Append the matched file's full path to the list\n",
    "                        matched_count += 1                             # Increment the count for the current folder\n",
    "                        total_count += 1                               # Increment the global count\n",
    "\n",
    "                        if total_count == self.limit:                       # break if counter equal to limit\n",
    "                            break\n",
    "\n",
    "                folder_pdf_count[root] = matched_count                 # store count of matched PDFs for folder even if 0\n",
    "\n",
    "            if total_count == self.limit:                                   # break if counter equal to limit\n",
    "                break\n",
    "\n",
    "        # group folders by matching number of pdfs\n",
    "        self.grouped_folders = defaultdict(list) \n",
    "\n",
    "        for folder, count in folder_pdf_count.items():\n",
    "            self.grouped_folders[count].append(folder)\n",
    "\n",
    "        df = pd.DataFrame(list(folder_pdf_count.items()), columns=['Folder', 'PDF_Count']) # refactor data in pandas df\n",
    "\n",
    "        counts, bins = np.histogram(df['PDF_Count'], bins=range(df['PDF_Count'].max() + 2)) # histogram data\n",
    "\n",
    "        palette = sns.color_palette('colorblind', len(counts)) # sns colour blind palette \n",
    "\n",
    "        plt.figure(figsize=(10, 6)) # create bar plot\n",
    "        plt.bar(bins[:-1], counts, width=1, edgecolor='black', color=palette, align='edge')\n",
    "        plt.xticks(ticks=bins[:-1] + 0.5, labels=range(df['PDF_Count'].max() + 1)) # center xticks\n",
    "        plt.title(f\"Distribution of '{self.file_name}' in '{self.folder_name}' folders\", fontsize=16)\n",
    "        plt.xlabel(\"Number of files\")\n",
    "        plt.ylabel(\"Number of folders\")\n",
    "        plt.grid(False)\n",
    "        plt.show()\n",
    "\n",
    "        print(f\"A total of {total_submissions_folders} {self.folder_name} folders within the directory on {self.today}\\n\")\n",
    "\n",
    "        print(f\"The distribution of files in those folders:\") # grouped results\n",
    "        for count, folders in sorted(self.grouped_folders.items()):\n",
    "            print(f\"{len(folders)} folders with {count} {self.file_name}\") \n",
    "\n",
    "    # function #3\n",
    "    def show_files_in_random_folder(self, frequency):\n",
    "        # Part to randomly select a folder with X \"bid proposals\" and print file names\n",
    "        if frequency in self.grouped_folders:\n",
    "            random_folder = random.choice(self.grouped_folders[frequency])  # select random folder with \"X bid proposals\"\n",
    "            print(f\"Randomly selected folder with {frequency} {self.file_name}: \\n\\n{random_folder}\\n\")\n",
    "\n",
    "            for file in os.listdir(random_folder): # extract and print just filenames in folder\n",
    "                if self.pattern.match(file):  # match files with the given pattern\n",
    "                    print(file) \n",
    "        else:\n",
    "            print(f\"No folder with exactly {frequency} {self.file_name} found.\") "
   ]
  },
  {
   "cell_type": "markdown",
   "metadata": {},
   "source": [
    "## Commercial Group - Eastern Hemisphere Bids Directory\n",
    "### [Link to CG-EH directory where analysis performed](https://oceaneering.sharepoint.com/sites/OPG_CommEastern/Shared%20Documents/Forms/AllItems.aspx?id=%2Fsites%2FOPG%5FCommEastern%2FShared%20Documents%2FBIDS&viewid=26e7f20f%2D0e95%2D47c1%2Db83a%2De27464c76787)\n",
    "\n",
    "### Pattern: \"20XX-\" \"Anything.pdf\""
   ]
  },
  {
   "cell_type": "code",
   "execution_count": 2,
   "metadata": {},
   "outputs": [],
   "source": [
    "# set global variables\n",
    "file_name='Bid proposals.pdf'\n",
    "\n",
    "# set EH variables \n",
    "bids_directory = \"C:\\\\Users\\\\DCarlier\\\\Oceaneering\\\\Commercial Group - Eastern Hemisphere - Team Documents\\\\BIDS\"\n",
    "folder_name='Submissions'\n",
    "folder_pattern = re.compile(r\"submission\", re.IGNORECASE)\n",
    "file_pattern = re.compile(r\"^20\\d{2}-.*\\.pdf$\", re.IGNORECASE)\n",
    "\n",
    "# instantiate evaluator class\n",
    "evaluator = FilesAndFoldersInDirectory( \n",
    "    directory_path=bids_directory,                           # travesrse entire directory\n",
    "    folder_name=folder_name,                                 # find folders like this\n",
    "    folder_pattern=folder_pattern,                           # folder pattern-matching\n",
    "    file_name=file_name,                                     # find files like this\n",
    "    pattern=file_pattern,                                    # file pattern-matching\n",
    "    limit=10000)                                             # limit result to 10K"
   ]
  },
  {
   "cell_type": "markdown",
   "metadata": {},
   "source": [
    "### Total count and 10 random file samples"
   ]
  },
  {
   "cell_type": "code",
   "execution_count": 3,
   "metadata": {},
   "outputs": [
    {
     "name": "stdout",
     "output_type": "stream",
     "text": [
      "A total of 5888 retrieved Bid proposals.pdf files from Submissions on 2024-09-28\n",
      "\n",
      "Randomly selected samples:\n",
      "2023-013390 Tree cap unlocking jacks.pdf\n",
      "2022-008716-001.pdf\n",
      "2021-3539100-002.pdf\n",
      "2021-1498205-001.pdf\n",
      "2021-0649055-005 Re-Design LAOT with Screw Drive.pdf\n",
      "2021-4387752 Coating Removal Tool and Cutting Equipment.pdf\n",
      "2022-010218 Sector Scan Service.pdf\n",
      "2022-010436 - Azerbaijan - Provision of Glycol Skid Spares.pdf\n",
      "2022-10001277-002 P&A Campaign - WellSafe Defender.pdf\n",
      "2021-5652449-001 - Africa Frame Agreement Rates.pdf\n"
     ]
    }
   ],
   "source": [
    "evaluator.retrieve_pattern_matched_files()"
   ]
  },
  {
   "cell_type": "markdown",
   "metadata": {},
   "source": [
    "### Distribution of files in folders"
   ]
  },
  {
   "cell_type": "code",
   "execution_count": 4,
   "metadata": {},
   "outputs": [
    {
     "data": {
      "image/png": "[encoded data removed]",
      "text/plain": [
       "<Figure size 720x432 with 1 Axes>"
      ]
     },
     "metadata": {
      "needs_background": "light"
     },
     "output_type": "display_data"
    },
    {
     "name": "stdout",
     "output_type": "stream",
     "text": [
      "A total of 5617 Submissions folders within the directory on 2024-09-28\n",
      "\n",
      "The distribution of files in those folders:\n",
      "1722 folders with 0 Bid proposals.pdf\n",
      "2711 folders with 1 Bid proposals.pdf\n",
      "755 folders with 2 Bid proposals.pdf\n",
      "241 folders with 3 Bid proposals.pdf\n",
      "93 folders with 4 Bid proposals.pdf\n",
      "46 folders with 5 Bid proposals.pdf\n",
      "25 folders with 6 Bid proposals.pdf\n",
      "10 folders with 7 Bid proposals.pdf\n",
      "9 folders with 8 Bid proposals.pdf\n",
      "3 folders with 9 Bid proposals.pdf\n",
      "1 folders with 11 Bid proposals.pdf\n",
      "1 folders with 12 Bid proposals.pdf\n"
     ]
    }
   ],
   "source": [
    "evaluator.distribution_of_files_in_folders()"
   ]
  },
  {
   "cell_type": "markdown",
   "metadata": {},
   "source": [
    "### Display multiples of files in random folders"
   ]
  },
  {
   "cell_type": "code",
   "execution_count": 5,
   "metadata": {},
   "outputs": [
    {
     "name": "stdout",
     "output_type": "stream",
     "text": [
      "Randomly selected folder with 1 Bid proposals.pdf: \n",
      "\n",
      "C:\\Users\\DCarlier\\Oceaneering\\Commercial Group - Eastern Hemisphere - Team Documents\\BIDS\\2022\\OPG - Integrated Projects & Renewables\\MID EAST\\Saipem\\2022-10004514 - Provision of CP Services\\Submissions\n",
      "\n",
      "2022-10004514 - Saipem - CP Services (4).pdf\n"
     ]
    }
   ],
   "source": [
    "evaluator.show_files_in_random_folder(frequency=1)"
   ]
  },
  {
   "cell_type": "markdown",
   "metadata": {},
   "source": [
    "## Searching for exact CL-pattern-matched Bid proposal.pdf files\n",
    "### Pattern: \"20XX-\" \"-\" \"Opportunity Number\" \"-\" \"Revision\" \"Anything.pdf\""
   ]
  },
  {
   "cell_type": "code",
   "execution_count": 6,
   "metadata": {},
   "outputs": [],
   "source": [
    "file_pattern = re.compile(r\"^20\\d{2}-[a-zA-Z0-9]{6,8}-[a-zA-Z0-9]{3}.*\\.pdf$\", re.IGNORECASE)\n",
    "\n",
    "# instantiate evaluator class\n",
    "evaluator = FilesAndFoldersInDirectory( \n",
    "    directory_path=bids_directory,                           # travesrse entire directory\n",
    "    folder_name=folder_name,                                 # find folders like this\n",
    "    folder_pattern=folder_pattern,                           # folder pattern-matching\n",
    "    file_name=file_name,                                     # find files like this\n",
    "    pattern=file_pattern,                                    # file pattern-matching\n",
    "    limit=10000)                                             # limit result to 10K"
   ]
  },
  {
   "cell_type": "markdown",
   "metadata": {},
   "source": [
    "### Total count and 10 random file samples"
   ]
  },
  {
   "cell_type": "code",
   "execution_count": 7,
   "metadata": {},
   "outputs": [
    {
     "name": "stdout",
     "output_type": "stream",
     "text": [
      "A total of 2146 retrieved Bid proposals.pdf files from Submissions on 2024-09-28\n",
      "\n",
      "Randomly selected samples:\n",
      "2021-9980335-Technical Budgetary Proposal.pdf\n",
      "2024-017449-001 - Dual Skid Rental - BP Murlach THOS Deployment.pdf\n",
      "2021-4205975-Commercial Proposal.pdf\n",
      "2023-10005741-003 Prelude Acid Shrouds.pdf\n",
      "2021-2547748-Provision of Flush Unit- Angola.pdf\n",
      "2023-011752-001.pdf\n",
      "2024-016874-000 - RFQ 24142 SO 5146496 - Spares for Torque Tools.pdf\n",
      "2022-010976-004 - Provision of  Blue View Units (7).pdf\n",
      "2023-011571-001.pdf\n",
      "2021-3030308-001 Provision of ROV Tooling.pdf\n"
     ]
    }
   ],
   "source": [
    "evaluator.retrieve_pattern_matched_files()"
   ]
  },
  {
   "cell_type": "markdown",
   "metadata": {},
   "source": [
    "### Distribution of files in folders"
   ]
  },
  {
   "cell_type": "code",
   "execution_count": 8,
   "metadata": {},
   "outputs": [
    {
     "data": {
      "image/png": "[encoded data removed]",
      "text/plain": [
       "<Figure size 720x432 with 1 Axes>"
      ]
     },
     "metadata": {
      "needs_background": "light"
     },
     "output_type": "display_data"
    },
    {
     "name": "stdout",
     "output_type": "stream",
     "text": [
      "A total of 5617 Submissions folders within the directory on 2024-09-28\n",
      "\n",
      "The distribution of files in those folders:\n",
      "4220 folders with 0 Bid proposals.pdf\n",
      "961 folders with 1 Bid proposals.pdf\n",
      "269 folders with 2 Bid proposals.pdf\n",
      "90 folders with 3 Bid proposals.pdf\n",
      "39 folders with 4 Bid proposals.pdf\n",
      "19 folders with 5 Bid proposals.pdf\n",
      "12 folders with 6 Bid proposals.pdf\n",
      "3 folders with 7 Bid proposals.pdf\n",
      "3 folders with 8 Bid proposals.pdf\n",
      "1 folders with 9 Bid proposals.pdf\n"
     ]
    }
   ],
   "source": [
    "evaluator.distribution_of_files_in_folders()"
   ]
  },
  {
   "cell_type": "markdown",
   "metadata": {},
   "source": [
    "### Display multiples of files in random folders"
   ]
  },
  {
   "cell_type": "code",
   "execution_count": 9,
   "metadata": {},
   "outputs": [
    {
     "name": "stdout",
     "output_type": "stream",
     "text": [
      "Randomly selected folder with 1 Bid proposals.pdf: \n",
      "\n",
      "C:\\Users\\DCarlier\\Oceaneering\\Commercial Group - Eastern Hemisphere - Team Documents\\BIDS\\2022\\OPG - Engineered Solutions\\NORWAY\\Aker Solutions\\2022-10004520-000 - Dalia, New ROV Tooling- Engineered Solutions\\Submissions\n",
      "\n",
      "2022-10004520-000 - Dalia, New ROV Tooling- Engineered Solutions (1).pdf\n"
     ]
    }
   ],
   "source": [
    "evaluator.show_files_in_random_folder(frequency=1)"
   ]
  },
  {
   "cell_type": "markdown",
   "metadata": {},
   "source": [
    "***\n",
    "***\n",
    "***\n",
    "\n",
    "## Commercial Group - Western Hemisphere Bids Directory\n",
    "### [Link to CG-WH directory where analysis performed](https://oceaneering.sharepoint.com/sites/ComGrpWest/Shared%20Documents/Forms/AllItems.aspx?FolderCTID=0x0120000CEF154AB187B644AD62E74C29B39E3B&id=%2Fsites%2FComGrpWest%2FShared%20Documents%2FOPG%2FBIDS&viewid=a55e7000%2Dccbd%2D4706%2D81a1%2D392733aaa391)\n",
    "\n",
    "### Pattern: \"20XX-\" \"Anything.pdf\""
   ]
  },
  {
   "cell_type": "code",
   "execution_count": 10,
   "metadata": {},
   "outputs": [],
   "source": [
    "# set WH variables \n",
    "bids_directory = \"C:\\\\Users\\\\DCarlier\\\\Oceaneering\\\\Commercial Group - Western Hemisphere - BIDS\"\n",
    "folder_pattern = re.compile(r\"proposal\", re.IGNORECASE)\n",
    "file_pattern = re.compile(r\"^20\\d{2}-.*\\.pdf$\", re.IGNORECASE)\n",
    "\n",
    "# instantiate evaluator class\n",
    "evaluator = FilesAndFoldersInDirectory( \n",
    "    directory_path=bids_directory,                           # travesrse entire directory\n",
    "    folder_name=folder_name,                                 # find folders like this\n",
    "    folder_pattern=folder_pattern,                           # folder pattern-matching\n",
    "    file_name=file_name,                                     # find files like this\n",
    "    pattern=file_pattern,                                    # file pattern-matching\n",
    "    limit=10000)                                             # limit result to 10K"
   ]
  },
  {
   "cell_type": "markdown",
   "metadata": {},
   "source": [
    "### Total count and 10 random file samples"
   ]
  },
  {
   "cell_type": "code",
   "execution_count": 11,
   "metadata": {},
   "outputs": [
    {
     "name": "stdout",
     "output_type": "stream",
     "text": [
      "A total of 406 retrieved Bid proposals.pdf files from Submissions on 2024-09-28\n",
      "\n",
      "Randomly selected samples:\n",
      "2022-10003600 - OPG - Buckskin Quad install IDWR.pdf\n",
      "2021-6236829-000 Eni Allegheny ROV Panel Rental Proposal.pdf\n",
      "2021-4559332-000 Exxon Angola LWI (BUDGETARY).pdf\n",
      "2022-10002532-001 BP BORIS PM&E Estimate.pdf\n",
      "2019-4706809 - Well Head Cutting Services.pdf\n",
      "2021-2269190B Hess IWOCS P&A Proposal.pdf\n",
      "2022-10002247 Oceaneering OPG - Brazil - Shell T&T Project_Schedule_220629.pdf\n",
      "2020-7105973 Kodiak 2 Tree Storage and Dock Testing Proposal.pdf\n",
      "2023-10006749R2_ENI Umbilical Route Survey.pdf\n",
      "2021-5424948-01 SBM Offshore Equatorial Guinea ASENG UWILD.pdf\n"
     ]
    }
   ],
   "source": [
    "evaluator.retrieve_pattern_matched_files()"
   ]
  },
  {
   "cell_type": "markdown",
   "metadata": {},
   "source": [
    "### Distribution of files in folders"
   ]
  },
  {
   "cell_type": "code",
   "execution_count": 12,
   "metadata": {},
   "outputs": [
    {
     "data": {
      "image/png": "[encoded data removed]",
      "text/plain": [
       "<Figure size 720x432 with 1 Axes>"
      ]
     },
     "metadata": {
      "needs_background": "light"
     },
     "output_type": "display_data"
    },
    {
     "name": "stdout",
     "output_type": "stream",
     "text": [
      "A total of 10177 Submissions folders within the directory on 2024-09-28\n",
      "\n",
      "The distribution of files in those folders:\n",
      "9891 folders with 0 Bid proposals.pdf\n",
      "218 folders with 1 Bid proposals.pdf\n",
      "41 folders with 2 Bid proposals.pdf\n",
      "18 folders with 3 Bid proposals.pdf\n",
      "1 folders with 4 Bid proposals.pdf\n",
      "3 folders with 5 Bid proposals.pdf\n",
      "2 folders with 6 Bid proposals.pdf\n",
      "3 folders with 7 Bid proposals.pdf\n"
     ]
    }
   ],
   "source": [
    "evaluator.distribution_of_files_in_folders()"
   ]
  },
  {
   "cell_type": "markdown",
   "metadata": {},
   "source": [
    "### Display multiples of files in random folders"
   ]
  },
  {
   "cell_type": "code",
   "execution_count": 13,
   "metadata": {},
   "outputs": [
    {
     "name": "stdout",
     "output_type": "stream",
     "text": [
      "Randomly selected folder with 1 Bid proposals.pdf: \n",
      "\n",
      "C:\\Users\\DCarlier\\Oceaneering\\Commercial Group - Western Hemisphere - BIDS\\Engineered Solutions\\2022\\Occidental Petroleum\\2022-009744-000 - Oxy 3in Gasket RRT_hp\\4. Proposal\n",
      "\n",
      "2022-009744 OXY 3in GRRT draft.pdf\n"
     ]
    }
   ],
   "source": [
    "evaluator.show_files_in_random_folder(frequency=1)"
   ]
  },
  {
   "cell_type": "markdown",
   "metadata": {},
   "source": [
    "## Searching for exact CL-pattern-matched Bid proposal.pdf files\n",
    "### Pattern: \"20XX-\" \"-\" \"Opportunity Number\" \"-\" \"Revision\" \"Anything.pdf\""
   ]
  },
  {
   "cell_type": "code",
   "execution_count": 14,
   "metadata": {},
   "outputs": [],
   "source": [
    "pattern = re.compile(r\"^20\\d{2}-[a-zA-Z0-9]{6,8}-[a-zA-Z0-9]{3}.*\\.pdf$\", re.IGNORECASE)\n",
    "\n",
    "# instantiate evaluator class\n",
    "evaluator = FilesAndFoldersInDirectory( \n",
    "    directory_path=bids_directory,                           # travesrse entire directory\n",
    "    folder_name=folder_name,                                 # find folders like this\n",
    "    folder_pattern=folder_pattern,                           # folder pattern-matching\n",
    "    file_name=file_name,                                     # find files like this\n",
    "    pattern=file_pattern,                                    # file pattern-matching\n",
    "    limit=10000)                                             # limit result to 10K"
   ]
  },
  {
   "cell_type": "markdown",
   "metadata": {},
   "source": [
    "### Total count and 10 random file samples"
   ]
  },
  {
   "cell_type": "code",
   "execution_count": 15,
   "metadata": {},
   "outputs": [
    {
     "name": "stdout",
     "output_type": "stream",
     "text": [
      "A total of 406 retrieved Bid proposals.pdf files from Submissions on 2024-09-28\n",
      "\n",
      "Randomly selected samples:\n",
      "2021-3208933 ENI Angola LWI (BUDGETARY) from Ian S..pdf\n",
      "2022-10003856-000 Project Schedule.pdf\n",
      "2021-5770739-000 WOM Umbilical Rental Proposal.pdf\n",
      "2023-014538 Shell 20K Upgrade - Isolation Kit.pdf\n",
      "2021-5863352-00-Saipem North Platte SCR Tie Ins.pdf\n",
      "2023-10005786 Chevron 5deg Mag Inclinometer_final.pdf\n",
      "2020-7515186 01 Oceaneering Proposal.pdf\n",
      "2020-9140615 Ocean Patriot.pdf\n",
      "2020-8765896-000 Chevron - 20K RWOCS Study - 1 Well Callout.pdf\n",
      "2023-10006945-000 Shell Perdido Flexible Installation Project - TECHNICAL PROPOSAL.pdf\n"
     ]
    }
   ],
   "source": [
    "evaluator.retrieve_pattern_matched_files()"
   ]
  },
  {
   "cell_type": "markdown",
   "metadata": {},
   "source": [
    "### Distribution of files in folders"
   ]
  },
  {
   "cell_type": "code",
   "execution_count": 16,
   "metadata": {},
   "outputs": [
    {
     "data": {
      "image/png": "[encoded data removed]",
      "text/plain": [
       "<Figure size 720x432 with 1 Axes>"
      ]
     },
     "metadata": {
      "needs_background": "light"
     },
     "output_type": "display_data"
    },
    {
     "name": "stdout",
     "output_type": "stream",
     "text": [
      "A total of 10177 Submissions folders within the directory on 2024-09-28\n",
      "\n",
      "The distribution of files in those folders:\n",
      "9891 folders with 0 Bid proposals.pdf\n",
      "218 folders with 1 Bid proposals.pdf\n",
      "41 folders with 2 Bid proposals.pdf\n",
      "18 folders with 3 Bid proposals.pdf\n",
      "1 folders with 4 Bid proposals.pdf\n",
      "3 folders with 5 Bid proposals.pdf\n",
      "2 folders with 6 Bid proposals.pdf\n",
      "3 folders with 7 Bid proposals.pdf\n"
     ]
    }
   ],
   "source": [
    "evaluator.distribution_of_files_in_folders()"
   ]
  },
  {
   "cell_type": "markdown",
   "metadata": {},
   "source": [
    "### Display multiples of files in random folders"
   ]
  },
  {
   "cell_type": "code",
   "execution_count": 17,
   "metadata": {},
   "outputs": [
    {
     "name": "stdout",
     "output_type": "stream",
     "text": [
      "Randomly selected folder with 4 Bid proposals.pdf: \n",
      "\n",
      "C:\\Users\\DCarlier\\Oceaneering\\Commercial Group - Western Hemisphere - BIDS\\Intervention\\2023\\Hess\\2023-10006917-PSD6 Pipeline Flush & Fill\\03_Proposal\n",
      "\n",
      "2023-10006917-000 PSD6 Pipeline Flush  Fill - Rev 8-23.pdf\n",
      "2023-10006917-001 PSD6 Pipeline Flush  Fill - Rev 8-30.pdf\n",
      "2023-10006917-001 PSD6 Pipeline Flush  Fill - Rev 8-301.pdf\n",
      "2023-10006917-003 PSD6 Pipeline Flush  Fill - Rev 9-26 signed.pdf\n"
     ]
    }
   ],
   "source": [
    "evaluator.show_files_in_random_folder(frequency=4)"
   ]
  },
  {
   "cell_type": "code",
   "execution_count": null,
   "metadata": {},
   "outputs": [],
   "source": []
  }
 ],
 "metadata": {
  "kernelspec": {
   "display_name": "Python 3",
   "language": "python",
   "name": "python3"
  },
  "language_info": {
   "codemirror_mode": {
    "name": "ipython",
    "version": 3
   },
   "file_extension": ".py",
   "mimetype": "text/x-python",
   "name": "python",
   "nbconvert_exporter": "python",
   "pygments_lexer": "ipython3",
   "version": "3.7.6"
  }
 },
 "nbformat": 4,
 "nbformat_minor": 4
}
